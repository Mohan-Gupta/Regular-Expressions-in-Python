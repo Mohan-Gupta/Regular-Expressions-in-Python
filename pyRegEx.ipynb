{
 "cells": [
  {
   "cell_type": "code",
   "execution_count": 1,
   "metadata": {},
   "outputs": [],
   "source": [
    "#importing re(RegualrExpression) library\n",
    "import re"
   ]
  },
  {
   "cell_type": "code",
   "execution_count": 15,
   "metadata": {},
   "outputs": [],
   "source": [
    "#test string\n",
    "string='fun with RegEx in python'"
   ]
  },
  {
   "cell_type": "markdown",
   "metadata": {},
   "source": [
    "### re.match()\n",
    "re.match(Pattern,test_string)"
   ]
  },
  {
   "cell_type": "code",
   "execution_count": 24,
   "metadata": {},
   "outputs": [],
   "source": [
    "#creating a match object by \"re.match\" it takes two parameters\n",
    "#1.regular expression, 2.string\n",
    "m=re.match(r'fun',string)"
   ]
  },
  {
   "cell_type": "code",
   "execution_count": 25,
   "metadata": {},
   "outputs": [
    {
     "data": {
      "text/plain": [
       "'fun'"
      ]
     },
     "execution_count": 25,
     "metadata": {},
     "output_type": "execute_result"
    }
   ],
   "source": [
    "#this is will return the matched string if the matched string is at the begining of test string\n",
    "#otherwise it will return \"AttributeError: 'NoneType' object has no attribute 'group'\"\n",
    "m.group()"
   ]
  },
  {
   "cell_type": "code",
   "execution_count": 26,
   "metadata": {},
   "outputs": [
    {
     "name": "stdout",
     "output_type": "stream",
     "text": [
      "0 3 (0, 3)\n"
     ]
    }
   ],
   "source": [
    "#returns the starting index of the matched string in test string\n",
    "start = m.start()\n",
    "\n",
    "#returns the end index of the matched string in test string\n",
    "end = m.end()\n",
    "\n",
    "#returns a tuple of start and end index of matched string in test string\n",
    "span = m.span()\n",
    "\n",
    "print(start,end,span)"
   ]
  },
  {
   "cell_type": "markdown",
   "metadata": {},
   "source": [
    "#### re.search()\n",
    "re.search(Pattern,test_string)"
   ]
  },
  {
   "cell_type": "markdown",
   "metadata": {},
   "source": [
    "to search for a string/pattern throughout the  test string,<br>\n",
    "we use re.search()"
   ]
  },
  {
   "cell_type": "code",
   "execution_count": 42,
   "metadata": {},
   "outputs": [
    {
     "data": {
      "text/plain": [
       "<re.Match object; span=(4, 8), match='with'>"
      ]
     },
     "execution_count": 42,
     "metadata": {},
     "output_type": "execute_result"
    }
   ],
   "source": [
    "#it will return the first matched string\n",
    "mo = re.search(r'with',string)\n",
    "mo"
   ]
  },
  {
   "cell_type": "markdown",
   "metadata": {},
   "source": [
    "As we can see it returns a match object, it also shows the span of the matched string in test string<br>\n",
    "and also the matched string."
   ]
  },
  {
   "cell_type": "code",
   "execution_count": 45,
   "metadata": {},
   "outputs": [
    {
     "name": "stdout",
     "output_type": "stream",
     "text": [
      "fun with RegEx in python-(4, 8)\n"
     ]
    }
   ],
   "source": [
    "#Extracting the test string\n",
    "tst_str = mo.string\n",
    "\n",
    "#Extracting the span of the matched string in test string\n",
    "srch_spn = mo.span()\n",
    "\n",
    "print(tst_str, srch_spn,sep='-')"
   ]
  },
  {
   "cell_type": "code",
   "execution_count": 46,
   "metadata": {},
   "outputs": [],
   "source": [
    "#taking a new & a slightly bigger test string\n",
    "test_str = \"\"\"Harry:123456789\n",
    "              Ron:567891234\n",
    "              Hermoine:111223344\n",
    "              Draco:333221444\n",
    "              \"\"\""
   ]
  },
  {
   "cell_type": "markdown",
   "metadata": {},
   "source": [
    "let us extract all the numbers from the above string"
   ]
  },
  {
   "cell_type": "markdown",
   "metadata": {},
   "source": [
    "#### re.findall()\n",
    "re.findall(Pattern,test_string)"
   ]
  },
  {
   "cell_type": "code",
   "execution_count": 67,
   "metadata": {},
   "outputs": [
    {
     "name": "stdout",
     "output_type": "stream",
     "text": [
      "['', '', '', '', '', '', '123456789', '', '', '', '', '', '', '', '', '', '', '', '', '', '', '', '', '', '', '', '567891234', '', '', '', '', '', '', '', '', '', '', '', '', '', '', '', '', '', '', '', '', '', '', '', '', '111223344', '', '', '', '', '', '', '', '', '', '', '', '', '', '', '', '', '', '', '', '', '', '333221444', '', '', '', '', '', '', '', '', '', '', '', '', '', '', '', '']\n"
     ]
    }
   ],
   "source": [
    "nums = re.findall(r'[0-9]*',test_str)\n",
    "print(nums)"
   ]
  },
  {
   "cell_type": "markdown",
   "metadata": {},
   "source": [
    "As we can see it also returns Empty matches<br>\n",
    "Let us filter out the mathced string"
   ]
  },
  {
   "cell_type": "code",
   "execution_count": 68,
   "metadata": {},
   "outputs": [
    {
     "data": {
      "text/plain": [
       "('123456789', '567891234', '111223344', '333221444')"
      ]
     },
     "execution_count": 68,
     "metadata": {},
     "output_type": "execute_result"
    }
   ],
   "source": [
    "#filtering the matched strings\n",
    "tuple(filter(lambda x: x!='',nums))"
   ]
  },
  {
   "cell_type": "markdown",
   "metadata": {},
   "source": [
    "#### re.finditer()\n",
    "re.match(Pattern,test_string)"
   ]
  },
  {
   "cell_type": "code",
   "execution_count": 106,
   "metadata": {},
   "outputs": [
    {
     "name": "stdout",
     "output_type": "stream",
     "text": [
      "<callable_iterator object at 0x000002151638FA08>\n"
     ]
    }
   ],
   "source": [
    "#extracting all the names from test_str\n",
    "names = re.finditer(r'[a-zA-z]*',test_str)\n",
    "print(names)"
   ]
  },
  {
   "cell_type": "markdown",
   "metadata": {},
   "source": [
    "Here finditer() returns an iterator object,<br>\n",
    "finditer() is really useful when we are working with a large size of data,<br>\n",
    "and we want to look at the mathced strings one-by-one<br>\n",
    "This makes our code more efficient"
   ]
  },
  {
   "cell_type": "code",
   "execution_count": 105,
   "metadata": {},
   "outputs": [
    {
     "data": {
      "text/plain": [
       "['Harry', 'Ron', 'Hermoine', 'Draco']"
      ]
     },
     "execution_count": 105,
     "metadata": {},
     "output_type": "execute_result"
    }
   ],
   "source": [
    "#extracting the matched strings from 'names'\n",
    "[i.group() for i in names if i.group()!='']"
   ]
  },
  {
   "cell_type": "code",
   "execution_count": 107,
   "metadata": {},
   "outputs": [
    {
     "data": {
      "text/plain": [
       "[(0, 5), (30, 33), (58, 66), (91, 96)]"
      ]
     },
     "execution_count": 107,
     "metadata": {},
     "output_type": "execute_result"
    }
   ],
   "source": [
    "#extracting the span of each matched string in 'names'\n",
    "[i.span() for i in names if i.group()!='']"
   ]
  },
  {
   "cell_type": "markdown",
   "metadata": {},
   "source": [
    "### observed difference between findall() & finditer()\n",
    "findall() and finditer() are almost same<br>\n",
    "however finditer() returns an iterator object"
   ]
  },
  {
   "cell_type": "markdown",
   "metadata": {},
   "source": [
    "### re.split()\n",
    "re.split(Pattern,test_string)"
   ]
  },
  {
   "cell_type": "code",
   "execution_count": 118,
   "metadata": {},
   "outputs": [],
   "source": [
    "#to better understand re.split(), I have editted test_str\n",
    "test_str = r\"\"\"Harry:123-456-789\n",
    "Ron:567-891-234\n",
    "Hermoine:111-223-344\n",
    "Draco:333-221-444\n",
    "              \"\"\""
   ]
  },
  {
   "cell_type": "code",
   "execution_count": 123,
   "metadata": {},
   "outputs": [
    {
     "name": "stdout",
     "output_type": "stream",
     "text": [
      "['Harry', '123', '456', '789', 'Ron', '567', '891', '234', 'Hermoine', '111', '223', '344', 'Draco', '333', '221', '444', '              ']\n"
     ]
    }
   ],
   "source": [
    "splt = re.split(r'[\\n:-]',test_str)\n",
    "print(splt)"
   ]
  },
  {
   "cell_type": "markdown",
   "metadata": {},
   "source": [
    "#### here we have splitted the test_str by ':' , '-' and also by new line\n",
    "it allows splitting on multiple bases, which is not possible by string.splt() "
   ]
  },
  {
   "cell_type": "markdown",
   "metadata": {},
   "source": [
    "#### re.sub()\n",
    "re.(pattern,string,test_string)<br>\n",
    "pattern - to be substituted<br>\n",
    "string - substitute"
   ]
  },
  {
   "cell_type": "code",
   "execution_count": 125,
   "metadata": {},
   "outputs": [
    {
     "data": {
      "text/plain": [
       "'regular expressions in python'"
      ]
     },
     "execution_count": 125,
     "metadata": {},
     "output_type": "execute_result"
    }
   ],
   "source": [
    "string = 'regular expressions in python'\n",
    "#let us substitute all the 'e' with 'i'\n",
    "\n",
    "re.sub('e','i',string) # it won't change the original string"
   ]
  },
  {
   "cell_type": "code",
   "execution_count": null,
   "metadata": {},
   "outputs": [],
   "source": []
  }
 ],
 "metadata": {
  "kernelspec": {
   "display_name": "Python 3",
   "language": "python",
   "name": "python3"
  },
  "language_info": {
   "codemirror_mode": {
    "name": "ipython",
    "version": 3
   },
   "file_extension": ".py",
   "mimetype": "text/x-python",
   "name": "python",
   "nbconvert_exporter": "python",
   "pygments_lexer": "ipython3",
   "version": "3.7.4"
  }
 },
 "nbformat": 4,
 "nbformat_minor": 2
}
